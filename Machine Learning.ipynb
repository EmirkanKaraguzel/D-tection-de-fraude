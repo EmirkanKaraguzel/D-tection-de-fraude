{
 "cells": [
  {
   "cell_type": "markdown",
   "id": "e95aa5c8",
   "metadata": {},
   "source": [
    "# Détection de fraude en Machine Learning"
   ]
  },
  {
   "cell_type": "markdown",
   "id": "5bc6dae8",
   "metadata": {},
   "source": [
    "Librairies"
   ]
  },
  {
   "cell_type": "code",
   "execution_count": 16,
   "id": "bfd536e6",
   "metadata": {},
   "outputs": [],
   "source": [
    "import pandas as pd\n",
    "import numpy as np\n",
    "import seaborn as sns\n",
    "import matplotlib.pyplot as plt\n",
    "from pandas import read_csv, set_option\n",
    "from pandas.plotting import scatter_matrix"
   ]
  },
  {
   "cell_type": "markdown",
   "id": "a1263bf0",
   "metadata": {},
   "source": [
    "Base de données"
   ]
  },
  {
   "cell_type": "code",
   "execution_count": 17,
   "id": "778fdc1f",
   "metadata": {
    "scrolled": true
   },
   "outputs": [
    {
     "data": {
      "text/html": [
       "<div>\n",
       "<style scoped>\n",
       "    .dataframe tbody tr th:only-of-type {\n",
       "        vertical-align: middle;\n",
       "    }\n",
       "\n",
       "    .dataframe tbody tr th {\n",
       "        vertical-align: top;\n",
       "    }\n",
       "\n",
       "    .dataframe thead th {\n",
       "        text-align: right;\n",
       "    }\n",
       "</style>\n",
       "<table border=\"1\" class=\"dataframe\">\n",
       "  <thead>\n",
       "    <tr style=\"text-align: right;\">\n",
       "      <th></th>\n",
       "      <th>Time</th>\n",
       "      <th>V1</th>\n",
       "      <th>V2</th>\n",
       "      <th>V3</th>\n",
       "      <th>V4</th>\n",
       "      <th>V5</th>\n",
       "      <th>V6</th>\n",
       "      <th>V7</th>\n",
       "      <th>V8</th>\n",
       "      <th>V9</th>\n",
       "      <th>...</th>\n",
       "      <th>V21</th>\n",
       "      <th>V22</th>\n",
       "      <th>V23</th>\n",
       "      <th>V24</th>\n",
       "      <th>V25</th>\n",
       "      <th>V26</th>\n",
       "      <th>V27</th>\n",
       "      <th>V28</th>\n",
       "      <th>Amount</th>\n",
       "      <th>Class</th>\n",
       "    </tr>\n",
       "  </thead>\n",
       "  <tbody>\n",
       "    <tr>\n",
       "      <th>0</th>\n",
       "      <td>0.0</td>\n",
       "      <td>-1.35981</td>\n",
       "      <td>-0.07278</td>\n",
       "      <td>2.53635</td>\n",
       "      <td>1.37816</td>\n",
       "      <td>-0.33832</td>\n",
       "      <td>0.46239</td>\n",
       "      <td>0.23960</td>\n",
       "      <td>0.09870</td>\n",
       "      <td>0.36379</td>\n",
       "      <td>...</td>\n",
       "      <td>-0.01831</td>\n",
       "      <td>0.27784</td>\n",
       "      <td>-0.11047</td>\n",
       "      <td>0.06693</td>\n",
       "      <td>0.12854</td>\n",
       "      <td>-0.18911</td>\n",
       "      <td>0.13356</td>\n",
       "      <td>-0.02105</td>\n",
       "      <td>149.62</td>\n",
       "      <td>0</td>\n",
       "    </tr>\n",
       "    <tr>\n",
       "      <th>1</th>\n",
       "      <td>0.0</td>\n",
       "      <td>1.19186</td>\n",
       "      <td>0.26615</td>\n",
       "      <td>0.16648</td>\n",
       "      <td>0.44815</td>\n",
       "      <td>0.06002</td>\n",
       "      <td>-0.08236</td>\n",
       "      <td>-0.07880</td>\n",
       "      <td>0.08510</td>\n",
       "      <td>-0.25543</td>\n",
       "      <td>...</td>\n",
       "      <td>-0.22578</td>\n",
       "      <td>-0.63867</td>\n",
       "      <td>0.10129</td>\n",
       "      <td>-0.33985</td>\n",
       "      <td>0.16717</td>\n",
       "      <td>0.12589</td>\n",
       "      <td>-0.00898</td>\n",
       "      <td>0.01472</td>\n",
       "      <td>2.69</td>\n",
       "      <td>0</td>\n",
       "    </tr>\n",
       "    <tr>\n",
       "      <th>2</th>\n",
       "      <td>1.0</td>\n",
       "      <td>-1.35835</td>\n",
       "      <td>-1.34016</td>\n",
       "      <td>1.77321</td>\n",
       "      <td>0.37978</td>\n",
       "      <td>-0.50320</td>\n",
       "      <td>1.80050</td>\n",
       "      <td>0.79146</td>\n",
       "      <td>0.24768</td>\n",
       "      <td>-1.51465</td>\n",
       "      <td>...</td>\n",
       "      <td>0.24800</td>\n",
       "      <td>0.77168</td>\n",
       "      <td>0.90941</td>\n",
       "      <td>-0.68928</td>\n",
       "      <td>-0.32764</td>\n",
       "      <td>-0.13910</td>\n",
       "      <td>-0.05535</td>\n",
       "      <td>-0.05975</td>\n",
       "      <td>378.66</td>\n",
       "      <td>0</td>\n",
       "    </tr>\n",
       "    <tr>\n",
       "      <th>3</th>\n",
       "      <td>1.0</td>\n",
       "      <td>-0.96627</td>\n",
       "      <td>-0.18523</td>\n",
       "      <td>1.79299</td>\n",
       "      <td>-0.86329</td>\n",
       "      <td>-0.01031</td>\n",
       "      <td>1.24720</td>\n",
       "      <td>0.23761</td>\n",
       "      <td>0.37744</td>\n",
       "      <td>-1.38702</td>\n",
       "      <td>...</td>\n",
       "      <td>-0.10830</td>\n",
       "      <td>0.00527</td>\n",
       "      <td>-0.19032</td>\n",
       "      <td>-1.17558</td>\n",
       "      <td>0.64738</td>\n",
       "      <td>-0.22193</td>\n",
       "      <td>0.06272</td>\n",
       "      <td>0.06146</td>\n",
       "      <td>123.50</td>\n",
       "      <td>0</td>\n",
       "    </tr>\n",
       "    <tr>\n",
       "      <th>4</th>\n",
       "      <td>2.0</td>\n",
       "      <td>-1.15823</td>\n",
       "      <td>0.87774</td>\n",
       "      <td>1.54872</td>\n",
       "      <td>0.40303</td>\n",
       "      <td>-0.40719</td>\n",
       "      <td>0.09592</td>\n",
       "      <td>0.59294</td>\n",
       "      <td>-0.27053</td>\n",
       "      <td>0.81774</td>\n",
       "      <td>...</td>\n",
       "      <td>-0.00943</td>\n",
       "      <td>0.79828</td>\n",
       "      <td>-0.13746</td>\n",
       "      <td>0.14127</td>\n",
       "      <td>-0.20601</td>\n",
       "      <td>0.50229</td>\n",
       "      <td>0.21942</td>\n",
       "      <td>0.21515</td>\n",
       "      <td>69.99</td>\n",
       "      <td>0</td>\n",
       "    </tr>\n",
       "  </tbody>\n",
       "</table>\n",
       "<p>5 rows × 31 columns</p>\n",
       "</div>"
      ],
      "text/plain": [
       "   Time       V1       V2       V3       V4       V5       V6       V7  \\\n",
       "0   0.0 -1.35981 -0.07278  2.53635  1.37816 -0.33832  0.46239  0.23960   \n",
       "1   0.0  1.19186  0.26615  0.16648  0.44815  0.06002 -0.08236 -0.07880   \n",
       "2   1.0 -1.35835 -1.34016  1.77321  0.37978 -0.50320  1.80050  0.79146   \n",
       "3   1.0 -0.96627 -0.18523  1.79299 -0.86329 -0.01031  1.24720  0.23761   \n",
       "4   2.0 -1.15823  0.87774  1.54872  0.40303 -0.40719  0.09592  0.59294   \n",
       "\n",
       "        V8       V9  ...      V21      V22      V23      V24      V25  \\\n",
       "0  0.09870  0.36379  ... -0.01831  0.27784 -0.11047  0.06693  0.12854   \n",
       "1  0.08510 -0.25543  ... -0.22578 -0.63867  0.10129 -0.33985  0.16717   \n",
       "2  0.24768 -1.51465  ...  0.24800  0.77168  0.90941 -0.68928 -0.32764   \n",
       "3  0.37744 -1.38702  ... -0.10830  0.00527 -0.19032 -1.17558  0.64738   \n",
       "4 -0.27053  0.81774  ... -0.00943  0.79828 -0.13746  0.14127 -0.20601   \n",
       "\n",
       "       V26      V27      V28  Amount  Class  \n",
       "0 -0.18911  0.13356 -0.02105  149.62      0  \n",
       "1  0.12589 -0.00898  0.01472    2.69      0  \n",
       "2 -0.13910 -0.05535 -0.05975  378.66      0  \n",
       "3 -0.22193  0.06272  0.06146  123.50      0  \n",
       "4  0.50229  0.21942  0.21515   69.99      0  \n",
       "\n",
       "[5 rows x 31 columns]"
      ]
     },
     "execution_count": 17,
     "metadata": {},
     "output_type": "execute_result"
    }
   ],
   "source": [
    "df = pd.read_csv('creditcard.csv')\n",
    "df.head()"
   ]
  },
  {
   "cell_type": "markdown",
   "id": "f4379793",
   "metadata": {},
   "source": [
    "### Analyse des données"
   ]
  },
  {
   "cell_type": "code",
   "execution_count": 18,
   "id": "829befd5",
   "metadata": {},
   "outputs": [
    {
     "data": {
      "text/html": [
       "<div>\n",
       "<style scoped>\n",
       "    .dataframe tbody tr th:only-of-type {\n",
       "        vertical-align: middle;\n",
       "    }\n",
       "\n",
       "    .dataframe tbody tr th {\n",
       "        vertical-align: top;\n",
       "    }\n",
       "\n",
       "    .dataframe thead th {\n",
       "        text-align: right;\n",
       "    }\n",
       "</style>\n",
       "<table border=\"1\" class=\"dataframe\">\n",
       "  <thead>\n",
       "    <tr style=\"text-align: right;\">\n",
       "      <th></th>\n",
       "      <th>Time</th>\n",
       "      <th>V1</th>\n",
       "      <th>V2</th>\n",
       "      <th>V3</th>\n",
       "      <th>V4</th>\n",
       "      <th>V5</th>\n",
       "      <th>V6</th>\n",
       "      <th>V7</th>\n",
       "      <th>V8</th>\n",
       "      <th>V9</th>\n",
       "      <th>...</th>\n",
       "      <th>V21</th>\n",
       "      <th>V22</th>\n",
       "      <th>V23</th>\n",
       "      <th>V24</th>\n",
       "      <th>V25</th>\n",
       "      <th>V26</th>\n",
       "      <th>V27</th>\n",
       "      <th>V28</th>\n",
       "      <th>Amount</th>\n",
       "      <th>Class</th>\n",
       "    </tr>\n",
       "  </thead>\n",
       "  <tbody>\n",
       "    <tr>\n",
       "      <th>count</th>\n",
       "      <td>284807.00000</td>\n",
       "      <td>2.84807e+05</td>\n",
       "      <td>2.84807e+05</td>\n",
       "      <td>2.84807e+05</td>\n",
       "      <td>2.84807e+05</td>\n",
       "      <td>2.84807e+05</td>\n",
       "      <td>2.84807e+05</td>\n",
       "      <td>2.84807e+05</td>\n",
       "      <td>2.84807e+05</td>\n",
       "      <td>2.84807e+05</td>\n",
       "      <td>...</td>\n",
       "      <td>2.84807e+05</td>\n",
       "      <td>2.84807e+05</td>\n",
       "      <td>2.84807e+05</td>\n",
       "      <td>2.84807e+05</td>\n",
       "      <td>2.84807e+05</td>\n",
       "      <td>2.84807e+05</td>\n",
       "      <td>2.84807e+05</td>\n",
       "      <td>2.84807e+05</td>\n",
       "      <td>284807.00000</td>\n",
       "      <td>284807.00000</td>\n",
       "    </tr>\n",
       "    <tr>\n",
       "      <th>mean</th>\n",
       "      <td>94813.85958</td>\n",
       "      <td>3.91865e-15</td>\n",
       "      <td>5.68269e-16</td>\n",
       "      <td>-8.76174e-15</td>\n",
       "      <td>2.81112e-15</td>\n",
       "      <td>-1.55210e-15</td>\n",
       "      <td>2.04013e-15</td>\n",
       "      <td>-1.69895e-15</td>\n",
       "      <td>-1.89329e-16</td>\n",
       "      <td>-3.14764e-15</td>\n",
       "      <td>...</td>\n",
       "      <td>1.47312e-16</td>\n",
       "      <td>8.04211e-16</td>\n",
       "      <td>5.28251e-16</td>\n",
       "      <td>4.45627e-15</td>\n",
       "      <td>1.42690e-15</td>\n",
       "      <td>1.70164e-15</td>\n",
       "      <td>-3.66225e-16</td>\n",
       "      <td>-1.21781e-16</td>\n",
       "      <td>88.34962</td>\n",
       "      <td>0.00173</td>\n",
       "    </tr>\n",
       "    <tr>\n",
       "      <th>std</th>\n",
       "      <td>47488.14595</td>\n",
       "      <td>1.95870e+00</td>\n",
       "      <td>1.65131e+00</td>\n",
       "      <td>1.51626e+00</td>\n",
       "      <td>1.41587e+00</td>\n",
       "      <td>1.38025e+00</td>\n",
       "      <td>1.33227e+00</td>\n",
       "      <td>1.23709e+00</td>\n",
       "      <td>1.19435e+00</td>\n",
       "      <td>1.09863e+00</td>\n",
       "      <td>...</td>\n",
       "      <td>7.34524e-01</td>\n",
       "      <td>7.25702e-01</td>\n",
       "      <td>6.24460e-01</td>\n",
       "      <td>6.05647e-01</td>\n",
       "      <td>5.21278e-01</td>\n",
       "      <td>4.82227e-01</td>\n",
       "      <td>4.03632e-01</td>\n",
       "      <td>3.30083e-01</td>\n",
       "      <td>250.12011</td>\n",
       "      <td>0.04153</td>\n",
       "    </tr>\n",
       "    <tr>\n",
       "      <th>min</th>\n",
       "      <td>0.00000</td>\n",
       "      <td>-5.64075e+01</td>\n",
       "      <td>-7.27157e+01</td>\n",
       "      <td>-4.83256e+01</td>\n",
       "      <td>-5.68317e+00</td>\n",
       "      <td>-1.13743e+02</td>\n",
       "      <td>-2.61605e+01</td>\n",
       "      <td>-4.35572e+01</td>\n",
       "      <td>-7.32167e+01</td>\n",
       "      <td>-1.34341e+01</td>\n",
       "      <td>...</td>\n",
       "      <td>-3.48304e+01</td>\n",
       "      <td>-1.09331e+01</td>\n",
       "      <td>-4.48077e+01</td>\n",
       "      <td>-2.83663e+00</td>\n",
       "      <td>-1.02954e+01</td>\n",
       "      <td>-2.60455e+00</td>\n",
       "      <td>-2.25657e+01</td>\n",
       "      <td>-1.54301e+01</td>\n",
       "      <td>0.00000</td>\n",
       "      <td>0.00000</td>\n",
       "    </tr>\n",
       "    <tr>\n",
       "      <th>25%</th>\n",
       "      <td>54201.50000</td>\n",
       "      <td>-9.20373e-01</td>\n",
       "      <td>-5.98550e-01</td>\n",
       "      <td>-8.90365e-01</td>\n",
       "      <td>-8.48640e-01</td>\n",
       "      <td>-6.91597e-01</td>\n",
       "      <td>-7.68296e-01</td>\n",
       "      <td>-5.54076e-01</td>\n",
       "      <td>-2.08630e-01</td>\n",
       "      <td>-6.43098e-01</td>\n",
       "      <td>...</td>\n",
       "      <td>-2.28395e-01</td>\n",
       "      <td>-5.42350e-01</td>\n",
       "      <td>-1.61846e-01</td>\n",
       "      <td>-3.54586e-01</td>\n",
       "      <td>-3.17145e-01</td>\n",
       "      <td>-3.26984e-01</td>\n",
       "      <td>-7.08395e-02</td>\n",
       "      <td>-5.29598e-02</td>\n",
       "      <td>5.60000</td>\n",
       "      <td>0.00000</td>\n",
       "    </tr>\n",
       "    <tr>\n",
       "      <th>50%</th>\n",
       "      <td>84692.00000</td>\n",
       "      <td>1.81088e-02</td>\n",
       "      <td>6.54856e-02</td>\n",
       "      <td>1.79846e-01</td>\n",
       "      <td>-1.98465e-02</td>\n",
       "      <td>-5.43358e-02</td>\n",
       "      <td>-2.74187e-01</td>\n",
       "      <td>4.01031e-02</td>\n",
       "      <td>2.23580e-02</td>\n",
       "      <td>-5.14287e-02</td>\n",
       "      <td>...</td>\n",
       "      <td>-2.94502e-02</td>\n",
       "      <td>6.78194e-03</td>\n",
       "      <td>-1.11929e-02</td>\n",
       "      <td>4.09761e-02</td>\n",
       "      <td>1.65935e-02</td>\n",
       "      <td>-5.21391e-02</td>\n",
       "      <td>1.34215e-03</td>\n",
       "      <td>1.12438e-02</td>\n",
       "      <td>22.00000</td>\n",
       "      <td>0.00000</td>\n",
       "    </tr>\n",
       "    <tr>\n",
       "      <th>75%</th>\n",
       "      <td>139320.50000</td>\n",
       "      <td>1.31564e+00</td>\n",
       "      <td>8.03724e-01</td>\n",
       "      <td>1.02720e+00</td>\n",
       "      <td>7.43341e-01</td>\n",
       "      <td>6.11926e-01</td>\n",
       "      <td>3.98565e-01</td>\n",
       "      <td>5.70436e-01</td>\n",
       "      <td>3.27346e-01</td>\n",
       "      <td>5.97139e-01</td>\n",
       "      <td>...</td>\n",
       "      <td>1.86377e-01</td>\n",
       "      <td>5.28554e-01</td>\n",
       "      <td>1.47642e-01</td>\n",
       "      <td>4.39527e-01</td>\n",
       "      <td>3.50716e-01</td>\n",
       "      <td>2.40952e-01</td>\n",
       "      <td>9.10451e-02</td>\n",
       "      <td>7.82800e-02</td>\n",
       "      <td>77.16500</td>\n",
       "      <td>0.00000</td>\n",
       "    </tr>\n",
       "    <tr>\n",
       "      <th>max</th>\n",
       "      <td>172792.00000</td>\n",
       "      <td>2.45493e+00</td>\n",
       "      <td>2.20577e+01</td>\n",
       "      <td>9.38256e+00</td>\n",
       "      <td>1.68753e+01</td>\n",
       "      <td>3.48017e+01</td>\n",
       "      <td>7.33016e+01</td>\n",
       "      <td>1.20589e+02</td>\n",
       "      <td>2.00072e+01</td>\n",
       "      <td>1.55950e+01</td>\n",
       "      <td>...</td>\n",
       "      <td>2.72028e+01</td>\n",
       "      <td>1.05031e+01</td>\n",
       "      <td>2.25284e+01</td>\n",
       "      <td>4.58455e+00</td>\n",
       "      <td>7.51959e+00</td>\n",
       "      <td>3.51735e+00</td>\n",
       "      <td>3.16122e+01</td>\n",
       "      <td>3.38478e+01</td>\n",
       "      <td>25691.16000</td>\n",
       "      <td>1.00000</td>\n",
       "    </tr>\n",
       "  </tbody>\n",
       "</table>\n",
       "<p>8 rows × 31 columns</p>\n",
       "</div>"
      ],
      "text/plain": [
       "               Time           V1           V2           V3           V4  \\\n",
       "count  284807.00000  2.84807e+05  2.84807e+05  2.84807e+05  2.84807e+05   \n",
       "mean    94813.85958  3.91865e-15  5.68269e-16 -8.76174e-15  2.81112e-15   \n",
       "std     47488.14595  1.95870e+00  1.65131e+00  1.51626e+00  1.41587e+00   \n",
       "min         0.00000 -5.64075e+01 -7.27157e+01 -4.83256e+01 -5.68317e+00   \n",
       "25%     54201.50000 -9.20373e-01 -5.98550e-01 -8.90365e-01 -8.48640e-01   \n",
       "50%     84692.00000  1.81088e-02  6.54856e-02  1.79846e-01 -1.98465e-02   \n",
       "75%    139320.50000  1.31564e+00  8.03724e-01  1.02720e+00  7.43341e-01   \n",
       "max    172792.00000  2.45493e+00  2.20577e+01  9.38256e+00  1.68753e+01   \n",
       "\n",
       "                V5           V6           V7           V8           V9  ...  \\\n",
       "count  2.84807e+05  2.84807e+05  2.84807e+05  2.84807e+05  2.84807e+05  ...   \n",
       "mean  -1.55210e-15  2.04013e-15 -1.69895e-15 -1.89329e-16 -3.14764e-15  ...   \n",
       "std    1.38025e+00  1.33227e+00  1.23709e+00  1.19435e+00  1.09863e+00  ...   \n",
       "min   -1.13743e+02 -2.61605e+01 -4.35572e+01 -7.32167e+01 -1.34341e+01  ...   \n",
       "25%   -6.91597e-01 -7.68296e-01 -5.54076e-01 -2.08630e-01 -6.43098e-01  ...   \n",
       "50%   -5.43358e-02 -2.74187e-01  4.01031e-02  2.23580e-02 -5.14287e-02  ...   \n",
       "75%    6.11926e-01  3.98565e-01  5.70436e-01  3.27346e-01  5.97139e-01  ...   \n",
       "max    3.48017e+01  7.33016e+01  1.20589e+02  2.00072e+01  1.55950e+01  ...   \n",
       "\n",
       "               V21          V22          V23          V24          V25  \\\n",
       "count  2.84807e+05  2.84807e+05  2.84807e+05  2.84807e+05  2.84807e+05   \n",
       "mean   1.47312e-16  8.04211e-16  5.28251e-16  4.45627e-15  1.42690e-15   \n",
       "std    7.34524e-01  7.25702e-01  6.24460e-01  6.05647e-01  5.21278e-01   \n",
       "min   -3.48304e+01 -1.09331e+01 -4.48077e+01 -2.83663e+00 -1.02954e+01   \n",
       "25%   -2.28395e-01 -5.42350e-01 -1.61846e-01 -3.54586e-01 -3.17145e-01   \n",
       "50%   -2.94502e-02  6.78194e-03 -1.11929e-02  4.09761e-02  1.65935e-02   \n",
       "75%    1.86377e-01  5.28554e-01  1.47642e-01  4.39527e-01  3.50716e-01   \n",
       "max    2.72028e+01  1.05031e+01  2.25284e+01  4.58455e+00  7.51959e+00   \n",
       "\n",
       "               V26          V27          V28        Amount         Class  \n",
       "count  2.84807e+05  2.84807e+05  2.84807e+05  284807.00000  284807.00000  \n",
       "mean   1.70164e-15 -3.66225e-16 -1.21781e-16      88.34962       0.00173  \n",
       "std    4.82227e-01  4.03632e-01  3.30083e-01     250.12011       0.04153  \n",
       "min   -2.60455e+00 -2.25657e+01 -1.54301e+01       0.00000       0.00000  \n",
       "25%   -3.26984e-01 -7.08395e-02 -5.29598e-02       5.60000       0.00000  \n",
       "50%   -5.21391e-02  1.34215e-03  1.12438e-02      22.00000       0.00000  \n",
       "75%    2.40952e-01  9.10451e-02  7.82800e-02      77.16500       0.00000  \n",
       "max    3.51735e+00  3.16122e+01  3.38478e+01   25691.16000       1.00000  \n",
       "\n",
       "[8 rows x 31 columns]"
      ]
     },
     "execution_count": 18,
     "metadata": {},
     "output_type": "execute_result"
    }
   ],
   "source": [
    "set_option('precision', 5)\n",
    "df.describe()"
   ]
  },
  {
   "cell_type": "markdown",
   "id": "03620c4d",
   "metadata": {},
   "source": [
    "La colonne Class nous donne l'informations : Not Fraud 1/ Fraud 0"
   ]
  },
  {
   "cell_type": "code",
   "execution_count": 19,
   "id": "23fea561",
   "metadata": {},
   "outputs": [
    {
     "name": "stdout",
     "output_type": "stream",
     "text": [
      "Not Fraud    284315\n",
      "Fraud           492\n",
      "Name: Class, dtype: int64\n"
     ]
    }
   ],
   "source": [
    "class_names = {0:'Not Fraud', 1:'Fraud'}\n",
    "rvs = data.Class.value_counts().rename(index = class_names)\n",
    "print(rvs)"
   ]
  },
  {
   "cell_type": "markdown",
   "id": "5d25648a",
   "metadata": {},
   "source": [
    "### Préparation de nos variable et paramètres"
   ]
  },
  {
   "cell_type": "code",
   "execution_count": 20,
   "id": "7020a7fc",
   "metadata": {},
   "outputs": [
    {
     "name": "stdout",
     "output_type": "stream",
     "text": [
      "(284807, 30)\n",
      "(284807, 1)\n"
     ]
    }
   ],
   "source": [
    "X = df.drop(columns =['Class'])\n",
    "Y = df['Class']\n",
    "\n",
    "Y = np.array(Y)\n",
    "Y = np.reshape(Y, (284807, 1))\n",
    "\n",
    "X = np.array(X)\n",
    "X = np.reshape(X, (284807, 30))\n",
    "\n",
    "print(X.shape)\n",
    "print(Y.shape)"
   ]
  },
  {
   "cell_type": "markdown",
   "id": "1fa66079",
   "metadata": {},
   "source": [
    "Séparer train et test set"
   ]
  },
  {
   "cell_type": "code",
   "execution_count": 21,
   "id": "31770d8d",
   "metadata": {},
   "outputs": [],
   "source": [
    "from sklearn import preprocessing\n",
    "min_max_scaler = preprocessing.MinMaxScaler()\n",
    "X_scale = min_max_scaler.fit_transform(X)"
   ]
  },
  {
   "cell_type": "code",
   "execution_count": 22,
   "id": "e7fff0f0",
   "metadata": {},
   "outputs": [
    {
     "name": "stdout",
     "output_type": "stream",
     "text": [
      "(199364, 30) (42721, 30) (42722, 30) (199364, 1) (42721, 1) (42722, 1)\n"
     ]
    }
   ],
   "source": [
    "from sklearn.model_selection import train_test_split\n",
    "X_train, X_val_and_test, Y_train, Y_val_and_test = train_test_split(X_scale, Y, test_size=0.3)\n",
    "\n",
    "X_val, X_test, Y_val, Y_test = train_test_split(X_val_and_test, Y_val_and_test, test_size=0.5)\n",
    "\n",
    "print(X_train.shape, X_val.shape, X_test.shape, Y_train.shape, Y_val.shape, Y_test.shape)"
   ]
  },
  {
   "cell_type": "markdown",
   "id": "c797ed4a",
   "metadata": {},
   "source": [
    "# Modèle"
   ]
  },
  {
   "cell_type": "markdown",
   "id": "bd72629f",
   "metadata": {},
   "source": [
    "### Regression Logistique"
   ]
  },
  {
   "cell_type": "code",
   "execution_count": 23,
   "id": "3cbfdbdb",
   "metadata": {},
   "outputs": [
    {
     "name": "stderr",
     "output_type": "stream",
     "text": [
      "D:\\ALGO\\Anaconda\\lib\\site-packages\\sklearn\\utils\\validation.py:63: DataConversionWarning: A column-vector y was passed when a 1d array was expected. Please change the shape of y to (n_samples, ), for example using ravel().\n",
      "  return f(*args, **kwargs)\n"
     ]
    }
   ],
   "source": [
    "from sklearn.metrics import accuracy_score\n",
    "from sklearn.linear_model import LogisticRegression\n",
    "\n",
    "logisreg = LogisticRegression()\n",
    "\n",
    "logisreg.fit(X_train, Y_train)\n",
    "\n",
    "y_pred = logisreg.predict(X_test)\n",
    "acc_logisreg = round( accuracy_score(Y_test, y_pred) * 100, 2 )"
   ]
  },
  {
   "cell_type": "markdown",
   "id": "92952931",
   "metadata": {},
   "source": [
    "### Linear Discriminent Analysis"
   ]
  },
  {
   "cell_type": "code",
   "execution_count": 24,
   "id": "8a3d92b6",
   "metadata": {},
   "outputs": [
    {
     "name": "stderr",
     "output_type": "stream",
     "text": [
      "D:\\ALGO\\Anaconda\\lib\\site-packages\\sklearn\\utils\\validation.py:63: DataConversionWarning: A column-vector y was passed when a 1d array was expected. Please change the shape of y to (n_samples, ), for example using ravel().\n",
      "  return f(*args, **kwargs)\n"
     ]
    }
   ],
   "source": [
    "from sklearn.discriminant_analysis import LinearDiscriminantAnalysis\n",
    "\n",
    "model = LinearDiscriminantAnalysis()\n",
    "\n",
    "model.fit(X_train, Y_train)\n",
    "\n",
    "y_pred = model.predict(X_test)\n",
    "\n",
    "acc_lda = round( accuracy_score(Y_test, y_pred) * 100, 2 )"
   ]
  },
  {
   "cell_type": "markdown",
   "id": "01ae85fb",
   "metadata": {},
   "source": [
    "### Gaussian Naive Bayes"
   ]
  },
  {
   "cell_type": "code",
   "execution_count": 25,
   "id": "903a0e58",
   "metadata": {},
   "outputs": [
    {
     "name": "stderr",
     "output_type": "stream",
     "text": [
      "D:\\ALGO\\Anaconda\\lib\\site-packages\\sklearn\\utils\\validation.py:63: DataConversionWarning: A column-vector y was passed when a 1d array was expected. Please change the shape of y to (n_samples, ), for example using ravel().\n",
      "  return f(*args, **kwargs)\n"
     ]
    }
   ],
   "source": [
    "from sklearn.naive_bayes import GaussianNB\n",
    "\n",
    "model = GaussianNB()\n",
    "model.fit(X_train, Y_train)\n",
    "\n",
    "y_pred = model.predict(X_test)\n",
    "\n",
    "acc_ganb = round( accuracy_score(Y_test, y_pred) * 100, 2 )"
   ]
  },
  {
   "cell_type": "markdown",
   "id": "844cfd28",
   "metadata": {},
   "source": [
    "### Decision Tree"
   ]
  },
  {
   "cell_type": "code",
   "execution_count": 26,
   "id": "b8bf6573",
   "metadata": {},
   "outputs": [],
   "source": [
    "from sklearn.tree import DecisionTreeClassifier\n",
    "\n",
    "model = DecisionTreeClassifier()\n",
    "model.fit(X_train, Y_train)\n",
    "\n",
    "y_pred = model.predict(X_test)\n",
    "\n",
    "acc_dtree = round( accuracy_score(Y_test, y_pred) * 100, 2 )"
   ]
  },
  {
   "cell_type": "markdown",
   "id": "d2d2721f",
   "metadata": {},
   "source": [
    "### Random Forest"
   ]
  },
  {
   "cell_type": "code",
   "execution_count": 32,
   "id": "bcb59bc4",
   "metadata": {},
   "outputs": [
    {
     "name": "stderr",
     "output_type": "stream",
     "text": [
      "<ipython-input-32-88a20ad35ab5>:5: DataConversionWarning: A column-vector y was passed when a 1d array was expected. Please change the shape of y to (n_samples,), for example using ravel().\n",
      "  model1.fit(X_train, Y_train)\n"
     ]
    }
   ],
   "source": [
    "from sklearn.ensemble import RandomForestClassifier\n",
    "\n",
    "\n",
    "model1 = RandomForestClassifier()\n",
    "model1.fit(X_train, Y_train)\n",
    "\n",
    "y_pred = model1.predict(X_test)\n",
    "\n",
    "acc_rf = round( accuracy_score(Y_test, y_pred) * 100, 2 )"
   ]
  },
  {
   "cell_type": "markdown",
   "id": "b1225afe",
   "metadata": {},
   "source": [
    "### Support Vecteur Machine"
   ]
  },
  {
   "cell_type": "code",
   "execution_count": 28,
   "id": "20908eb9",
   "metadata": {},
   "outputs": [
    {
     "name": "stderr",
     "output_type": "stream",
     "text": [
      "D:\\ALGO\\Anaconda\\lib\\site-packages\\sklearn\\utils\\validation.py:63: DataConversionWarning: A column-vector y was passed when a 1d array was expected. Please change the shape of y to (n_samples, ), for example using ravel().\n",
      "  return f(*args, **kwargs)\n"
     ]
    }
   ],
   "source": [
    "from sklearn import svm\n",
    "\n",
    "model = svm.SVC()\n",
    "model.fit(X_train, Y_train)\n",
    "\n",
    "y_pred = model.predict(X_test)\n",
    "\n",
    "acc_svc = round( accuracy_score(Y_test, y_pred) * 100, 2 )"
   ]
  },
  {
   "cell_type": "markdown",
   "id": "a2cbffcc",
   "metadata": {},
   "source": [
    "### KNN"
   ]
  },
  {
   "cell_type": "code",
   "execution_count": 29,
   "id": "0aa28ece",
   "metadata": {},
   "outputs": [
    {
     "name": "stderr",
     "output_type": "stream",
     "text": [
      "D:\\ALGO\\Anaconda\\lib\\site-packages\\sklearn\\neighbors\\_classification.py:179: DataConversionWarning: A column-vector y was passed when a 1d array was expected. Please change the shape of y to (n_samples,), for example using ravel().\n",
      "  return self._fit(X, y)\n"
     ]
    }
   ],
   "source": [
    "from sklearn.neighbors import KNeighborsClassifier\n",
    "\n",
    "model = KNeighborsClassifier()\n",
    "model.fit(X_train, Y_train)\n",
    "\n",
    "y_pred = model.predict(X_test)\n",
    "\n",
    "acc_knn = round( accuracy_score(Y_test, y_pred) * 100, 2 )"
   ]
  },
  {
   "cell_type": "markdown",
   "id": "4cf0b856",
   "metadata": {},
   "source": [
    "# Comparaison des scores"
   ]
  },
  {
   "cell_type": "code",
   "execution_count": 30,
   "id": "32a50631",
   "metadata": {},
   "outputs": [
    {
     "data": {
      "text/html": [
       "<div>\n",
       "<style scoped>\n",
       "    .dataframe tbody tr th:only-of-type {\n",
       "        vertical-align: middle;\n",
       "    }\n",
       "\n",
       "    .dataframe tbody tr th {\n",
       "        vertical-align: top;\n",
       "    }\n",
       "\n",
       "    .dataframe thead th {\n",
       "        text-align: right;\n",
       "    }\n",
       "</style>\n",
       "<table border=\"1\" class=\"dataframe\">\n",
       "  <thead>\n",
       "    <tr style=\"text-align: right;\">\n",
       "      <th></th>\n",
       "      <th>Model</th>\n",
       "      <th>Score</th>\n",
       "    </tr>\n",
       "  </thead>\n",
       "  <tbody>\n",
       "    <tr>\n",
       "      <th>4</th>\n",
       "      <td>Random Forest</td>\n",
       "      <td>99.96</td>\n",
       "    </tr>\n",
       "    <tr>\n",
       "      <th>6</th>\n",
       "      <td>K - Nearest Neighbors</td>\n",
       "      <td>99.95</td>\n",
       "    </tr>\n",
       "    <tr>\n",
       "      <th>1</th>\n",
       "      <td>Linear Discriminant Analysis</td>\n",
       "      <td>99.94</td>\n",
       "    </tr>\n",
       "    <tr>\n",
       "      <th>5</th>\n",
       "      <td>Support Vector Machines</td>\n",
       "      <td>99.94</td>\n",
       "    </tr>\n",
       "    <tr>\n",
       "      <th>3</th>\n",
       "      <td>Decision Tree</td>\n",
       "      <td>99.91</td>\n",
       "    </tr>\n",
       "    <tr>\n",
       "      <th>0</th>\n",
       "      <td>Logistic Regression</td>\n",
       "      <td>99.89</td>\n",
       "    </tr>\n",
       "    <tr>\n",
       "      <th>2</th>\n",
       "      <td>Naive Bayes</td>\n",
       "      <td>97.85</td>\n",
       "    </tr>\n",
       "  </tbody>\n",
       "</table>\n",
       "</div>"
      ],
      "text/plain": [
       "                          Model  Score\n",
       "4                 Random Forest  99.96\n",
       "6         K - Nearest Neighbors  99.95\n",
       "1  Linear Discriminant Analysis  99.94\n",
       "5       Support Vector Machines  99.94\n",
       "3                 Decision Tree  99.91\n",
       "0           Logistic Regression  99.89\n",
       "2                   Naive Bayes  97.85"
      ]
     },
     "execution_count": 30,
     "metadata": {},
     "output_type": "execute_result"
    }
   ],
   "source": [
    "models = pd.DataFrame({\n",
    "    'Model': ['Logistic Regression', 'Linear Discriminant Analysis','Naive Bayes',\n",
    "              'Decision Tree', 'Random Forest', 'Support Vector Machines', 'K - Nearest Neighbors'],\n",
    "    'Score': [acc_logisreg, acc_lda, acc_ganb, acc_dtree, acc_rf, acc_svc, acc_knn]})\n",
    "\n",
    "models.sort_values(by='Score', ascending=False)"
   ]
  },
  {
   "cell_type": "markdown",
   "id": "366b5e55",
   "metadata": {},
   "source": [
    "Matrice de confusion du Random Forest"
   ]
  },
  {
   "cell_type": "code",
   "execution_count": 33,
   "id": "3c33a73d",
   "metadata": {},
   "outputs": [
    {
     "data": {
      "image/png": "[encoded data removed]",
      "text/plain": [
       "<Figure size 432x288 with 2 Axes>"
      ]
     },
     "metadata": {
      "needs_background": "light"
     },
     "output_type": "display_data"
    }
   ],
   "source": [
    "from sklearn.metrics import plot_confusion_matrix\n",
    "plot_confusion_matrix(model1, X_test, Y_test);"
   ]
  }
 ],
 "metadata": {
  "kernelspec": {
   "display_name": "Python 3",
   "language": "python",
   "name": "python3"
  },
  "language_info": {
   "codemirror_mode": {
    "name": "ipython",
    "version": 3
   },
   "file_extension": ".py",
   "mimetype": "text/x-python",
   "name": "python",
   "nbconvert_exporter": "python",
   "pygments_lexer": "ipython3",
   "version": "3.8.8"
  }
 },
 "nbformat": 4,
 "nbformat_minor": 5
}
